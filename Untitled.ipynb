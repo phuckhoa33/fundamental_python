{
 "cells": [
  {
   "cell_type": "markdown",
   "id": "7be58d39",
   "metadata": {},
   "source": [
    "# Exersise"
   ]
  },
  {
   "cell_type": "code",
   "execution_count": 1,
   "id": "3ba1a812",
   "metadata": {},
   "outputs": [],
   "source": [
    "import turtle\n",
    "square = turtle.Turtle()\n",
    "\n",
    "def draw_square(angle):\n",
    "    for i in range(3):\n",
    "        square.forward(100)\n",
    "        square.right(90)    \n",
    "\n",
    "    square.forward(100)\n",
    "    square.right(90 + angle)\n",
    "    \n",
    "step = 36\n",
    "angle = 360 / step\n",
    "for i in range(step):\n",
    "    draw_square(angle) \n",
    "\n",
    "turtle.done()"
   ]
  },
  {
   "cell_type": "code",
   "execution_count": 2,
   "id": "3ce42d11",
   "metadata": {},
   "outputs": [
    {
     "name": "stdout",
     "output_type": "stream",
     "text": [
      "Tuple trước khi * ('PHP', 'Python', 'C#', 'Java', 'Android')\n",
      "Tuple sau khi * ('PHP', 'Python', 'C#', 'Java', 'Android', 'PHP', 'Python', 'C#', 'Java', 'Android')\n"
     ]
    }
   ],
   "source": [
    "languages = tuple((\"PHP\", \"Python\", \"C#\", \"Java\", \"Android\"))\n",
    "\n",
    "print(\"Tuple trước khi *\", languages)\n",
    "\n",
    "languages = languages * 2\n",
    "\n",
    "print(\"Tuple sau khi *\", languages)"
   ]
  },
  {
   "cell_type": "markdown",
   "id": "9310e22e",
   "metadata": {},
   "source": [
    "# Unpacking in tuple"
   ]
  },
  {
   "cell_type": "code",
   "execution_count": 3,
   "id": "eef83ac9",
   "metadata": {},
   "outputs": [
    {
     "name": "stdout",
     "output_type": "stream",
     "text": [
      "PHP\n",
      "Python\n",
      "['C#', 'Java', 'Visual Basic']\n"
     ]
    }
   ],
   "source": [
    "languages = (\"PHP\", \"Python\", \"C#\", \"Java\", \"Visual Basic\")\n",
    "\n",
    "(php, python, *other) = languages\n",
    "print(php)\n",
    "print(python)\n",
    "print(other)"
   ]
  },
  {
   "cell_type": "code",
   "execution_count": 4,
   "id": "2e1f41f9",
   "metadata": {},
   "outputs": [
    {
     "name": "stdout",
     "output_type": "stream",
     "text": [
      "2\n",
      "4\n",
      "6\n",
      "8\n",
      "None\n"
     ]
    }
   ],
   "source": [
    "class MyNumbers:\n",
    "    def __iter__(self):\n",
    "        self.a = 2\n",
    "        return self\n",
    "\n",
    "    def __next__(self):\n",
    "        x = self.a\n",
    "        self.a += 2\n",
    "        if (self.a < 11):\n",
    "            return x\n",
    "        else:\n",
    "            StopIteration\n",
    "\n",
    "mynumber = MyNumbers()\n",
    "inumber = iter(mynumber)\n",
    "\n",
    "print(next(inumber))\n",
    "print(next(inumber))\n",
    "print(next(inumber))\n",
    "print(next(inumber))\n",
    "print(next(inumber))"
   ]
  },
  {
   "cell_type": "code",
   "execution_count": null,
   "id": "5caa44b9",
   "metadata": {},
   "outputs": [],
   "source": []
  }
 ],
 "metadata": {
  "kernelspec": {
   "display_name": "Python 3 (ipykernel)",
   "language": "python",
   "name": "python3"
  },
  "language_info": {
   "codemirror_mode": {
    "name": "ipython",
    "version": 3
   },
   "file_extension": ".py",
   "mimetype": "text/x-python",
   "name": "python",
   "nbconvert_exporter": "python",
   "pygments_lexer": "ipython3",
   "version": "3.10.7"
  }
 },
 "nbformat": 4,
 "nbformat_minor": 5
}
