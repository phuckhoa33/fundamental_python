{
 "cells": [
  {
   "cell_type": "markdown",
   "id": "5b3cf573",
   "metadata": {},
   "source": [
    "## Fucntion "
   ]
  },
  {
   "cell_type": "code",
   "execution_count": 1,
   "id": "f2f5db70",
   "metadata": {},
   "outputs": [
    {
     "name": "stdout",
     "output_type": "stream",
     "text": [
      "This function descrie a pharse about 'nhin con cat' of Vietnamese \n"
     ]
    }
   ],
   "source": [
    "def nhin_con_cat():\n",
    "    \"\"\"This function descrie a pharse about 'nhin con cat' of Vietnamese \"\"\"\n",
    "    pass\n",
    "print(nhin_con_cat.__doc__)"
   ]
  },
  {
   "cell_type": "markdown",
   "id": "04c5dec5",
   "metadata": {},
   "source": [
    "## Anonymous function "
   ]
  },
  {
   "cell_type": "code",
   "execution_count": 2,
   "id": "613c6d60",
   "metadata": {},
   "outputs": [
    {
     "name": "stdout",
     "output_type": "stream",
     "text": [
      "7\n"
     ]
    }
   ],
   "source": [
    "sum = lambda sum1, sum2 : sum1+sum2\n",
    "\n",
    "print(sum(3, 4))"
   ]
  },
  {
   "cell_type": "markdown",
   "id": "559261eb",
   "metadata": {},
   "source": [
    "## Global Variable"
   ]
  },
  {
   "cell_type": "code",
   "execution_count": 5,
   "id": "57b97bf6",
   "metadata": {},
   "outputs": [
    {
     "name": "stdout",
     "output_type": "stream",
     "text": [
      "Dit con me may nhin khong\n"
     ]
    }
   ],
   "source": [
    "def global_variable():\n",
    "    global a\n",
    "    a = \"Dit con me may nhin khong\"\n",
    "    \n",
    "global_variable()\n",
    "print(a)"
   ]
  },
  {
   "cell_type": "markdown",
   "id": "04c51c5e",
   "metadata": {},
   "source": [
    "## Argument of function "
   ]
  },
  {
   "cell_type": "code",
   "execution_count": 7,
   "id": "6a6782bd",
   "metadata": {},
   "outputs": [
    {
     "name": "stdout",
     "output_type": "stream",
     "text": [
      "3\n",
      "5\n",
      "6\n",
      "7\n"
     ]
    }
   ],
   "source": [
    "def convertNumber(*number):\n",
    "    for i in number:\n",
    "        print(i)\n",
    "convertNumber(3,5,6,7)    "
   ]
  },
  {
   "cell_type": "markdown",
   "id": "9e07e846",
   "metadata": {},
   "source": [
    "## Treatment and Reference "
   ]
  },
  {
   "cell_type": "markdown",
   "id": "810729ee",
   "metadata": {},
   "source": [
    "If datatype of argument is mutable type, the function will be used for refernce "
   ]
  },
  {
   "cell_type": "code",
   "execution_count": 8,
   "id": "a5f5673c",
   "metadata": {},
   "outputs": [
    {
     "name": "stdout",
     "output_type": "stream",
     "text": [
      "id of myList 2392537000896\n",
      "id of myTempList 2392537000896\n",
      "['Orange', 'Apple', 'Grapes', 'Mango']\n",
      "['Orange', 'Apple', 'Grapes', 'Mango']\n",
      "<class 'list'>\n"
     ]
    }
   ],
   "source": [
    "# Một danh sách được tạo sẵn\n",
    "myList = [\"Orange\", \"Apple\",\"Grapes\"]\n",
    "# Hàm sẽ thêm 1 phần tử vào danh sách\n",
    "def addItem(myTempList):\n",
    "    print('id of myTempList', id(myTempList))\n",
    "    myTempList += [\"Mango\"]\n",
    "    print(myTempList)\n",
    "#In ra kết quả\n",
    "print('id of myList', id(myList))\n",
    "addItem(myList)\n",
    "print(myList)\n",
    "print(type(myList))"
   ]
  },
  {
   "cell_type": "markdown",
   "id": "ed948b7a",
   "metadata": {},
   "source": [
    "If datatype of argument is imutable type, the function will be used for treatment "
   ]
  },
  {
   "cell_type": "code",
   "execution_count": 9,
   "id": "903d9987",
   "metadata": {},
   "outputs": [
    {
     "name": "stdout",
     "output_type": "stream",
     "text": [
      "myInt 45\n",
      "id of myInt 2392444372592\n",
      "[addInt] myTempInt= 45\n",
      "[addInt] id of myTempInt= 2392444372592\n",
      "[addInt] myTempInt after add= 50\n",
      "[addInt] id of myTempInt after add= 2392444372752\n",
      "myInt 45\n",
      "id of myInt 2392444372592\n",
      "<class 'int'>\n"
     ]
    }
   ],
   "source": [
    "def addInt(myTempInt):\n",
    "    print(\"[addInt] myTempInt=\", myTempInt)\n",
    "    print(\"[addInt] id of myTempInt=\", id(myTempInt))\n",
    "    myTempInt += 5\n",
    "    print(\"[addInt] myTempInt after add=\", myTempInt)\n",
    "    print(\"[addInt] id of myTempInt after add=\", id(myTempInt))\n",
    "\n",
    "myInt = 45\n",
    "print(\"myInt\", myInt)\n",
    "print(\"id of myInt\", id(myInt))\n",
    "addInt(myInt)\n",
    "print(\"myInt\", myInt)\n",
    "print(\"id of myInt\", id(myInt))\n",
    "print(type(myInt))"
   ]
  },
  {
   "cell_type": "code",
   "execution_count": null,
   "id": "f8684d39",
   "metadata": {},
   "outputs": [],
   "source": []
  }
 ],
 "metadata": {
  "kernelspec": {
   "display_name": "Python 3 (ipykernel)",
   "language": "python",
   "name": "python3"
  },
  "language_info": {
   "codemirror_mode": {
    "name": "ipython",
    "version": 3
   },
   "file_extension": ".py",
   "mimetype": "text/x-python",
   "name": "python",
   "nbconvert_exporter": "python",
   "pygments_lexer": "ipython3",
   "version": "3.10.7"
  }
 },
 "nbformat": 4,
 "nbformat_minor": 5
}
