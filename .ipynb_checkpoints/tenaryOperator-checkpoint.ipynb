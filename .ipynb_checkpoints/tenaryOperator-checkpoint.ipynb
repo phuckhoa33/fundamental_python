{
 "cells": [
  {
   "cell_type": "code",
   "execution_count": 1,
   "id": "0fc3c7d9",
   "metadata": {},
   "outputs": [
    {
     "name": "stdout",
     "output_type": "stream",
     "text": [
      "Please enter number: 3\n",
      "Old\n"
     ]
    }
   ],
   "source": [
    "num_check = int(input(\"Please enter number: \"))\n",
    "print(\"Even\") if num_check % 2 == 0 else print(\"Old\")"
   ]
  },
  {
   "cell_type": "code",
   "execution_count": null,
   "id": "5475327f",
   "metadata": {},
   "outputs": [],
   "source": []
  }
 ],
 "metadata": {
  "kernelspec": {
   "display_name": "Python 3 (ipykernel)",
   "language": "python",
   "name": "python3"
  },
  "language_info": {
   "codemirror_mode": {
    "name": "ipython",
    "version": 3
   },
   "file_extension": ".py",
   "mimetype": "text/x-python",
   "name": "python",
   "nbconvert_exporter": "python",
   "pygments_lexer": "ipython3",
   "version": "3.10.7"
  }
 },
 "nbformat": 4,
 "nbformat_minor": 5
}
