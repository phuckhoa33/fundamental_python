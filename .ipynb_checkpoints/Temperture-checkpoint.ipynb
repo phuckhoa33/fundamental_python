{
 "cells": [
  {
   "cell_type": "code",
   "execution_count": 1,
   "id": "8c74bb25",
   "metadata": {},
   "outputs": [
    {
     "name": "stdout",
     "output_type": "stream",
     "text": [
      "Please enter amount of money: 23000\n",
      "Please enter exchange rate between vnd and usd: 23000\n",
      "529000000 usd\n"
     ]
    }
   ],
   "source": [
    "usd = int(input(\"Please enter amount of money: \"))\n",
    "exchangeRate = int(input(\"Please enter exchange rate between vnd and usd: \"))\n",
    "print(f\"{usd*exchangeRate} vnd\")"
   ]
  },
  {
   "cell_type": "code",
   "execution_count": null,
   "id": "b6c441b7",
   "metadata": {},
   "outputs": [],
   "source": []
  }
 ],
 "metadata": {
  "kernelspec": {
   "display_name": "Python 3 (ipykernel)",
   "language": "python",
   "name": "python3"
  },
  "language_info": {
   "codemirror_mode": {
    "name": "ipython",
    "version": 3
   },
   "file_extension": ".py",
   "mimetype": "text/x-python",
   "name": "python",
   "nbconvert_exporter": "python",
   "pygments_lexer": "ipython3",
   "version": "3.10.7"
  }
 },
 "nbformat": 4,
 "nbformat_minor": 5
}
