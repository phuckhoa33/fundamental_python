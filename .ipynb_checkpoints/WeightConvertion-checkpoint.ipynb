{
 "cells": [
  {
   "cell_type": "code",
   "execution_count": 36,
   "id": "b2a5ffee",
   "metadata": {},
   "outputs": [
    {
     "name": "stderr",
     "output_type": "stream",
     "text": [
      "Exception in Tkinter callback\n",
      "Traceback (most recent call last):\n",
      "  File \"C:\\Users\\mphuc\\AppData\\Local\\Programs\\Python\\Python310\\lib\\tkinter\\__init__.py\", line 1921, in __call__\n",
      "    return self.func(*args)\n",
      "  File \"C:\\Users\\mphuc\\AppData\\Local\\Temp\\ipykernel_3112\\3053185274.py\", line 8, in convertWeight\n",
      "    Gram.delete(\"1.0\", END)\n",
      "AttributeError: 'StringVar' object has no attribute 'delete'\n"
     ]
    }
   ],
   "source": [
    "from tkinter import *\n",
    "\n",
    "def convertWeight():\n",
    "    kg = float(e2.get())\n",
    "    Gram.set(str(kg*1000))\n",
    "    Pounds.set(str(kg*2.20462))\n",
    "    Ounce.set(str(kg*35.274))\n",
    "#     gram.delete(\"1.0\", END)\n",
    "#     gram.insert(END, Gram)\n",
    "#     pounds.delete(\"1.0\", END)\n",
    "#     pounds.insert(END, Pounds)\n",
    "#     ounce.delete(\"1.0\", END)\n",
    "#     ounce.insert(END, Ounce)\n",
    "    \n",
    "root = Tk()\n",
    "root.geometry(\"600x100\")\n",
    "\n",
    "# Create frame\n",
    "e2 = StringVar()\n",
    "Gram = StringVar()\n",
    "Pounds = StringVar()\n",
    "Ounce = StringVar()\n",
    "\n",
    "frame = Frame()\n",
    "frame.pack(padx=10)\n",
    "    \n",
    "frame1 = Frame()\n",
    "frame1.pack(padx=10)\n",
    "\n",
    "Label(frame, text=\"Enter the weight in Kg: \", font='arial 12 bold').pack(side=LEFT)\n",
    "Entry(frame, textvariable=e2, width=60).pack()\n",
    "Button(root, text=\"Convert\", font=\"arial 12 bold\", command=convertWeight).place(x=520, y=0)\n",
    "\n",
    "e3 = Label(frame1, text=\"Gram\", font=\"arial 12 bold\")\n",
    "e4 = Label(frame1, text=\"Pounds\", font=\"arial 12 bold\")\n",
    "e5 = Label(frame1, text=\"Ounce\", font=\"arial 12 bold\")\n",
    "\n",
    "e3.grid(row=0, column=0, padx=60)\n",
    "e4.grid(row=0, column=1, padx=60)\n",
    "e5.grid(row=0, column=2, padx=60)\n",
    "\n",
    "gram = Label(frame1, textvariable=Gram)\n",
    "pounds = Label(frame1, textvariable=Pounds)\n",
    "ounce = Label(frame1, textvariable=Ounce)\n",
    "\n",
    "gram.grid(row=1, column=0, padx=40)\n",
    "pounds.grid(row=1, column=1, padx=40)\n",
    "ounce.grid(row=1, column=2, padx=40)\n",
    "\n",
    "root.mainloop()"
   ]
  },
  {
   "cell_type": "code",
   "execution_count": null,
   "id": "e9267aad",
   "metadata": {},
   "outputs": [],
   "source": []
  }
 ],
 "metadata": {
  "kernelspec": {
   "display_name": "Python 3 (ipykernel)",
   "language": "python",
   "name": "python3"
  },
  "language_info": {
   "codemirror_mode": {
    "name": "ipython",
    "version": 3
   },
   "file_extension": ".py",
   "mimetype": "text/x-python",
   "name": "python",
   "nbconvert_exporter": "python",
   "pygments_lexer": "ipython3",
   "version": "3.10.7"
  }
 },
 "nbformat": 4,
 "nbformat_minor": 5
}
