{
 "cells": [
  {
   "cell_type": "code",
   "execution_count": 2,
   "id": "61629edd",
   "metadata": {},
   "outputs": [
    {
     "name": "stdout",
     "output_type": "stream",
     "text": [
      "Please enter amount of money: 23\n",
      "Please enter exchange rate between vnd and usd: 23\n",
      "529\n"
     ]
    }
   ],
   "source": [
    "vnd = int(input(\"Please enter amount of money: \"))\n",
    "exchangeRate = int(input(\"Please enter exchange rate between vnd and usd: \"))\n",
    "usd = vnd * exchangeRate\n",
    "print(f\"{usd} usd\")"
   ]
  },
  {
   "cell_type": "code",
   "execution_count": null,
   "id": "384caef2",
   "metadata": {},
   "outputs": [],
   "source": []
  }
 ],
 "metadata": {
  "kernelspec": {
   "display_name": "Python 3 (ipykernel)",
   "language": "python",
   "name": "python3"
  },
  "language_info": {
   "codemirror_mode": {
    "name": "ipython",
    "version": 3
   },
   "file_extension": ".py",
   "mimetype": "text/x-python",
   "name": "python",
   "nbconvert_exporter": "python",
   "pygments_lexer": "ipython3",
   "version": "3.10.7"
  }
 },
 "nbformat": 4,
 "nbformat_minor": 5
}
