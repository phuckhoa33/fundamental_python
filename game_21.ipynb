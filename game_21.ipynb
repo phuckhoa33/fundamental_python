{
 "cells": [
  {
   "cell_type": "code",
   "execution_count": 5,
   "id": "2ea67c56",
   "metadata": {},
   "outputs": [
    {
     "name": "stdout",
     "output_type": "stream",
     "text": [
      "Please enter value3\n",
      "The computer choice number 1\n",
      "Please enter value2\n",
      "The computer choice number 3\n",
      "Please enter value1\n",
      "The computer choice number 2\n",
      "Please enter value2\n",
      "The computer choice number 1\n",
      "Please enter value2\n",
      "The computer choice number 2\n",
      "Please enter value2\n",
      "computer is lose\n",
      "Do you play agan?n\n"
     ]
    }
   ],
   "source": [
    "import random as r\n",
    "current_player = \"\"\n",
    "current_number = 0\n",
    "random_int = r.randint(0,1)\n",
    "\n",
    "if random_int == 0:\n",
    "    current_player = \"human\"\n",
    "elif random_int == 1:\n",
    "    current_player = \"computer\"\n",
    "    \n",
    "while current_number <= 21:\n",
    "    if current_player == \"human\":\n",
    "        player_choice = int(input(\"Please enter value\"))\n",
    "        current_number += player_choice\n",
    "        current_player = \"computer\"\n",
    "    elif current_player == \"computer\":\n",
    "        computer_choice = r.randint(1,3)\n",
    "        print(f\"The computer choice number {computer_choice}\")\n",
    "        current_number += computer_choice\n",
    "        current_player = \"human\"\n",
    "    if current_number == 21:\n",
    "        print(f\"{current_player} is lose\")\n",
    "        answer = input(\"Do you play agan?\")\n",
    "        if answer == \"y\":\n",
    "            current_number = 0\n",
    "        else:\n",
    "            break\n",
    "    "
   ]
  },
  {
   "cell_type": "code",
   "execution_count": null,
   "id": "906849ed",
   "metadata": {},
   "outputs": [],
   "source": []
  }
 ],
 "metadata": {
  "kernelspec": {
   "display_name": "Python 3 (ipykernel)",
   "language": "python",
   "name": "python3"
  },
  "language_info": {
   "codemirror_mode": {
    "name": "ipython",
    "version": 3
   },
   "file_extension": ".py",
   "mimetype": "text/x-python",
   "name": "python",
   "nbconvert_exporter": "python",
   "pygments_lexer": "ipython3",
   "version": "3.10.7"
  }
 },
 "nbformat": 4,
 "nbformat_minor": 5
}
