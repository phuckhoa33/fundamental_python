{
 "cells": [
  {
   "cell_type": "code",
   "execution_count": 1,
   "id": "5b72da1f",
   "metadata": {},
   "outputs": [
    {
     "name": "stdout",
     "output_type": "stream",
     "text": [
      "Please enter shape you want to draw: square\n",
      "Please enter color for shape: blue\n"
     ]
    }
   ],
   "source": [
    "import turtle\n",
    "shapeInput = input(\"Please enter shape you want to draw: \")\n",
    "\n",
    "if shapeInput == \"circle\" or shapeInput == \"square\":\n",
    "    color = input(\"Please enter color for shape: \")\n",
    "    if color == \"red\" or color == \"blue\" or color == \"yellow\":\n",
    "        wn = turtle.Screen()\n",
    "        wn.bgcolor(\"black\")\n",
    "        wn.title(\"Your shape\")\n",
    "        \n",
    "        shape = turtle.Turtle()\n",
    "        shape.shape(shapeInput)\n",
    "        shape.color(color)\n",
    "        \n",
    "        turtle.done()\n",
    "    else:\n",
    "        print(\"I don't have this color\")\n",
    "else:\n",
    "    print(\"I don't have this shape\")"
   ]
  },
  {
   "cell_type": "code",
   "execution_count": null,
   "id": "7cf38931",
   "metadata": {},
   "outputs": [],
   "source": []
  }
 ],
 "metadata": {
  "kernelspec": {
   "display_name": "Python 3 (ipykernel)",
   "language": "python",
   "name": "python3"
  },
  "language_info": {
   "codemirror_mode": {
    "name": "ipython",
    "version": 3
   },
   "file_extension": ".py",
   "mimetype": "text/x-python",
   "name": "python",
   "nbconvert_exporter": "python",
   "pygments_lexer": "ipython3",
   "version": "3.10.7"
  }
 },
 "nbformat": 4,
 "nbformat_minor": 5
}
