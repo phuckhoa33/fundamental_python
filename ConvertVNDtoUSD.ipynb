{
 "cells": [
  {
   "cell_type": "code",
   "execution_count": 3,
   "id": "7af01cd2",
   "metadata": {},
   "outputs": [
    {
     "name": "stdout",
     "output_type": "stream",
     "text": [
      "Please enter amount of money: 23000\n",
      "Please enter exchange rate between vnd and usd: 23\n",
      "529000 usd\n"
     ]
    }
   ],
   "source": [
    "vnd = int(input(\"Please enter amount of money: \"))\n",
    "exchangeRate = int(input(\"Please enter exchange rate between vnd and usd: \"))\n",
    "usd = vnd * exchangeRate\n",
    "print(f\"{usd} usd\")"
   ]
  },
  {
   "cell_type": "code",
   "execution_count": null,
   "id": "36012040",
   "metadata": {},
   "outputs": [],
   "source": []
  }
 ],
 "metadata": {
  "kernelspec": {
   "display_name": "Python 3 (ipykernel)",
   "language": "python",
   "name": "python3"
  },
  "language_info": {
   "codemirror_mode": {
    "name": "ipython",
    "version": 3
   },
   "file_extension": ".py",
   "mimetype": "text/x-python",
   "name": "python",
   "nbconvert_exporter": "python",
   "pygments_lexer": "ipython3",
   "version": "3.10.7"
  }
 },
 "nbformat": 4,
 "nbformat_minor": 5
}
