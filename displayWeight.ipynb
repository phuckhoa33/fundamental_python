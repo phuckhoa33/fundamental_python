{
 "cells": [
  {
   "cell_type": "code",
   "execution_count": 1,
   "id": "5ad147c6",
   "metadata": {},
   "outputs": [
    {
     "name": "stdout",
     "output_type": "stream",
     "text": [
      "Please enter your bmi indent: 30\n",
      "You are level 1 fat\n"
     ]
    }
   ],
   "source": [
    "bmi = int(input(\"Please enter your bmi indent: \"))\n",
    "if bmi > 40:\n",
    "    print(\"You are level 3 fat\")\n",
    "elif bmi < 40 and bmi >= 35:\n",
    "    print(\"You are level 2 fat\")\n",
    "elif bmi >= 30 and bmi < 35:\n",
    "    print(\"You are level 1 fat\")\n",
    "elif bmi < 30 and bmi >= 25:\n",
    "    print(\"You are overweight\")\n",
    "elif bmi < 25 and bmi >= 18.5:\n",
    "    print(\"You are normal\")\n",
    "elif bmi < 18.5 and bmi >= 17:\n",
    "    print(\"You are level 3 lank\")\n",
    "elif bmi < 17 and bmi >= 16:\n",
    "    print(\"You are level 2 lank\")\n",
    "else:\n",
    "    print(\"You are level 3 lank\")"
   ]
  },
  {
   "cell_type": "code",
   "execution_count": null,
   "id": "1f8d5d93",
   "metadata": {},
   "outputs": [],
   "source": []
  }
 ],
 "metadata": {
  "kernelspec": {
   "display_name": "Python 3 (ipykernel)",
   "language": "python",
   "name": "python3"
  },
  "language_info": {
   "codemirror_mode": {
    "name": "ipython",
    "version": 3
   },
   "file_extension": ".py",
   "mimetype": "text/x-python",
   "name": "python",
   "nbconvert_exporter": "python",
   "pygments_lexer": "ipython3",
   "version": "3.10.7"
  }
 },
 "nbformat": 4,
 "nbformat_minor": 5
}
