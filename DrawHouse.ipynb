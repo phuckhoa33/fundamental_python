{
 "cells": [
  {
   "cell_type": "code",
   "execution_count": 1,
   "id": "af3d3dd3",
   "metadata": {},
   "outputs": [],
   "source": [
    "import turtle\n",
    "\n",
    "h = turtle.Turtle()\n",
    "\n",
    "def draw4Edge(cd, cr, f, s):\n",
    "    h.fd(cd)\n",
    "    h.rt(f)\n",
    "    h.fd(cr)\n",
    "    h.rt(s)\n",
    "def draw():\n",
    "    # set pen color\n",
    "    turtle.pencolor(\"#00BFFF\")\n",
    "    # draw the house\n",
    "    h.goto(-300, -200)\n",
    "    h.lt(90)\n",
    "    for i in range(2):\n",
    "        draw4Edge(250, 200, 90, 90)\n",
    "    h.lt(90)\n",
    "    h.bk(50)\n",
    "    h.rt(90)\n",
    "    for i in range(2):\n",
    "        draw4Edge(130, 100, 90, 90)\n",
    "    h.lt(90)\n",
    "    h.bk(150)\n",
    "    h.rt(90)\n",
    "    \n",
    "    for i in range(2):\n",
    "        draw4Edge(250, 120, 60, 120)\n",
    "    \n",
    "    h.lt(120)\n",
    "    h.bk(30)\n",
    "    h.rt(120)\n",
    "    h.fd(125)\n",
    "    \n",
    "    for i in range(2):\n",
    "        draw4Edge(62, 62, 60, 120)\n",
    "    h.bk(125)\n",
    "    h.lt(120)\n",
    "    h.fd(30)\n",
    "    h.rt(120)\n",
    "    h.fd(250)\n",
    "    \n",
    "    h.lt(30)\n",
    "    for i in range(2):\n",
    "        draw4Edge(150, 120, 90, 90)\n",
    "    h.fd(150)\n",
    "    h.lt(106.6)\n",
    "    h.fd(200)\n",
    "    \n",
    "    \n",
    "\n",
    "    # set background\n",
    "    turtle.bgcolor(\"#00BFFF\")\n",
    "    turtle.done()\n",
    "draw()"
   ]
  },
  {
   "cell_type": "code",
   "execution_count": null,
   "id": "a7fb0d85",
   "metadata": {},
   "outputs": [],
   "source": []
  }
 ],
 "metadata": {
  "kernelspec": {
   "display_name": "Python 3 (ipykernel)",
   "language": "python",
   "name": "python3"
  },
  "language_info": {
   "codemirror_mode": {
    "name": "ipython",
    "version": 3
   },
   "file_extension": ".py",
   "mimetype": "text/x-python",
   "name": "python",
   "nbconvert_exporter": "python",
   "pygments_lexer": "ipython3",
   "version": "3.9.12"
  }
 },
 "nbformat": 4,
 "nbformat_minor": 5
}
