{
 "cells": [
  {
   "cell_type": "markdown",
   "id": "7be58d39",
   "metadata": {},
   "source": [
    "# Exersise"
   ]
  },
  {
   "cell_type": "code",
   "execution_count": 1,
   "id": "3ba1a812",
   "metadata": {},
   "outputs": [],
   "source": [
    "import turtle\n",
    "square = turtle.Turtle()\n",
    "\n",
    "def draw_square(angle):\n",
    "    for i in range(3):\n",
    "        square.forward(100)\n",
    "        square.right(90)    \n",
    "\n",
    "    square.forward(100)\n",
    "    square.right(90 + angle)\n",
    "    \n",
    "step = 36\n",
    "angle = 360 / step\n",
    "for i in range(step):\n",
    "    draw_square(angle) \n",
    "\n",
    "turtle.done()"
   ]
  },
  {
   "cell_type": "code",
   "execution_count": 2,
   "id": "3ce42d11",
   "metadata": {},
   "outputs": [
    {
     "name": "stdout",
     "output_type": "stream",
     "text": [
      "Tuple trước khi * ('PHP', 'Python', 'C#', 'Java', 'Android')\n",
      "Tuple sau khi * ('PHP', 'Python', 'C#', 'Java', 'Android', 'PHP', 'Python', 'C#', 'Java', 'Android')\n"
     ]
    }
   ],
   "source": [
    "languages = tuple((\"PHP\", \"Python\", \"C#\", \"Java\", \"Android\"))\n",
    "\n",
    "print(\"Tuple trước khi *\", languages)\n",
    "\n",
    "languages = languages * 2\n",
    "\n",
    "print(\"Tuple sau khi *\", languages)"
   ]
  },
  {
   "cell_type": "markdown",
   "id": "9310e22e",
   "metadata": {},
   "source": [
    "# Unpacking in tuple"
   ]
  },
  {
   "cell_type": "code",
   "execution_count": 3,
   "id": "eef83ac9",
   "metadata": {},
   "outputs": [
    {
     "name": "stdout",
     "output_type": "stream",
     "text": [
      "PHP\n",
      "Python\n",
      "['C#', 'Java', 'Visual Basic']\n"
     ]
    }
   ],
   "source": [
    "languages = (\"PHP\", \"Python\", \"C#\", \"Java\", \"Visual Basic\")\n",
    "\n",
    "(php, python, *other) = languages\n",
    "print(php)\n",
    "print(python)\n",
    "print(other)"
   ]
  },
  {
   "cell_type": "code",
   "execution_count": 4,
   "id": "2e1f41f9",
   "metadata": {},
   "outputs": [
    {
     "name": "stdout",
     "output_type": "stream",
     "text": [
      "2\n",
      "4\n",
      "6\n",
      "8\n",
      "None\n"
     ]
    }
   ],
   "source": [
    "class MyNumbers:\n",
    "    def __iter__(self):\n",
    "        self.a = 2\n",
    "        return self\n",
    "\n",
    "    def __next__(self):\n",
    "        x = self.a\n",
    "        self.a += 2\n",
    "        if (self.a < 11):\n",
    "            return x\n",
    "        else:\n",
    "            StopIteration\n",
    "\n",
    "mynumber = MyNumbers()\n",
    "inumber = iter(mynumber)\n",
    "\n",
    "print(next(inumber))\n",
    "print(next(inumber))\n",
    "print(next(inumber))\n",
    "print(next(inumber))\n",
    "print(next(inumber))"
   ]
  },
  {
   "cell_type": "markdown",
   "id": "76e54179",
   "metadata": {},
   "source": [
    "## Learn Tkinder library"
   ]
  },
  {
   "cell_type": "code",
   "execution_count": 2,
   "id": "51f22cc9",
   "metadata": {},
   "outputs": [],
   "source": [
    "from tkinter import *\n",
    "\n",
    "login_window = Tk()\n",
    "login_window.geometry(\"400x250\")\n",
    "login_window.title(\"Login\")\n",
    "\n",
    "username = Label(login_window, text = \"Username:\").place(x = 30,y = 50)\n",
    "email = Label(login_window, text = \"Email:\").place(x = 30, y = 90)\n",
    "password = Label(login_window, text = \"Password:\").place(x = 30, y = 130)\n",
    "\n",
    "entry1 = Entry(login_window).place(x = 100, y = 50)\n",
    "entry2 = Entry(login_window).place(x = 100, y = 90)\n",
    "entry3 = Entry(login_window).place(x = 100, y = 130)\n",
    "\n",
    "login_window.mainloop()"
   ]
  },
  {
   "cell_type": "code",
   "execution_count": 5,
   "id": "e0ea8878",
   "metadata": {},
   "outputs": [],
   "source": [
    "from tkinter import *\n",
    "player = Tk()\n",
    "player.geometry(\"250x250\")\n",
    "player.title(\"Play\")\n",
    "\n",
    "click = Label(player, text=\"Click me!\").place(x=50,y=50)\n",
    "\n",
    "button = Button(player).place(x=100, y=80)\n",
    "\n",
    "player.mainloop()"
   ]
  },
  {
   "cell_type": "code",
   "execution_count": 7,
   "id": "d594e688",
   "metadata": {},
   "outputs": [],
   "source": [
    "import tkinter as tk\n",
    "\n",
    "window = tk.Tk()\n",
    "window.title(\"Grid\")\n",
    "\n",
    "for i in range(5):\n",
    "    for j in range(3):\n",
    "        frame = tk.Frame(\n",
    "            master = window,\n",
    "            relief = tk.RAISED,\n",
    "            borderwidth = 1\n",
    "        )\n",
    "        frame.grid(row=i, column=j)\n",
    "        label = tk.Label(master=frame, text=f\"Row {i}\\nColumn {j}\")\n",
    "        label.pack()\n",
    "\n",
    "window.mainloop()"
   ]
  },
  {
   "cell_type": "code",
   "execution_count": 8,
   "id": "33823f09",
   "metadata": {},
   "outputs": [],
   "source": [
    "import tkinter as tk\n",
    "\n",
    "window= tk.Tk()\n",
    "window.geometry(\"400x250\")\n",
    "window.title(\"Fill Color\")\n",
    "\n",
    "frame1 = tk.Frame(master=window, height=80, bg=\"red\")\n",
    "frame1.pack(fill=tk.X)\n",
    "\n",
    "frame2 = tk.Frame(master=window, height=50, bg=\"yellow\")\n",
    "frame2.pack(fill=tk.X)\n",
    "\n",
    "frame3 = tk.Frame(master=window, height=270, bg=\"blue\")\n",
    "frame3.pack(fill=tk.X)\n",
    "\n",
    "window.mainloop()"
   ]
  },
  {
   "cell_type": "markdown",
   "id": "88caddbc",
   "metadata": {},
   "source": [
    "## Event"
   ]
  },
  {
   "cell_type": "code",
   "execution_count": 12,
   "id": "4e5741fd",
   "metadata": {},
   "outputs": [
    {
     "name": "stdout",
     "output_type": "stream",
     "text": [
      "clicked at 179 80\n",
      "clicked at 179 80\n",
      "clicked at 179 80\n",
      "clicked at 179 80\n",
      "clicked at 179 80\n",
      "clicked at 179 80\n",
      "clicked at 334 162\n",
      "clicked at 334 162\n",
      "clicked at 334 162\n",
      "clicked at 334 162\n",
      "clicked at 358 236\n",
      "clicked at 22 202\n"
     ]
    }
   ],
   "source": [
    "from tkinter import *\n",
    "\n",
    "window = Tk()\n",
    "window.geometry(\"400x250\")\n",
    "window.title(\"Click Event\")\n",
    "\n",
    "def callback(event):\n",
    "    print(\"clicked at\", event.x, event.y)\n",
    "\n",
    "frame = Frame(window, width=400, height=250)\n",
    "frame.bind(\"<Button-1>\", callback)\n",
    "frame.pack()\n",
    "\n",
    "window.mainloop()"
   ]
  },
  {
   "cell_type": "code",
   "execution_count": 15,
   "id": "317a0e2c",
   "metadata": {},
   "outputs": [],
   "source": [
    "import tkinter as tk\n",
    "from tkinter import ttk\n",
    "\n",
    "def return_pressed(event):\n",
    "    '''Enter button is pressed'''\n",
    "    print('Return key pressed.')\n",
    "\n",
    "root = tk.Tk()\n",
    "\n",
    "btn = ttk.Button(root, text='Save')\n",
    "btn.bind('<Return>', return_pressed)\n",
    "\n",
    "btn.focus()\n",
    "btn.pack(expand=True)\n",
    "\n",
    "root.mainloop()"
   ]
  },
  {
   "cell_type": "markdown",
   "id": "dd766c81",
   "metadata": {},
   "source": [
    "## Practise"
   ]
  },
  {
   "cell_type": "code",
   "execution_count": 16,
   "id": "5f1090cc",
   "metadata": {},
   "outputs": [],
   "source": [
    "from tkinter import *\n",
    "\n",
    "def fahrenheit_to_celsius():\n",
    "    fahrenheit = ent_temperature_fahrenheit.get()\n",
    "    celsius = 5/9 * (float(fahrenheit) - 32)\n",
    "    lbl_result_celsius[\"text\"] = f\"{round(celsius, 2)} \\N{DEGREE CELSIUS}\"\n",
    "\n",
    "def celsius_to_fahrenheit ():\n",
    "    celsius = ent_temperature_celsius.get()\n",
    "    fahrenheit = 9/5 * float(celsius) + 32\n",
    "    lbl_result_fahrenheit[\"text\"] = f\"{round(fahrenheit, 2)} \\N{DEGREE FAHRENHEIT}\"\n",
    "\n",
    "\n",
    "window = Tk()\n",
    "window.title(\"Temperature Converter\")\n",
    "window.resizable(width=False, height=False)\n",
    "\n",
    "frm_entry_fahrenheit = Frame(master=window)\n",
    "ent_temperature_fahrenheit = Entry(master=frm_entry_fahrenheit, width=10)\n",
    "lbl_temp_fahrenheit = Label(master=frm_entry_fahrenheit, text=\"\\N{DEGREE FAHRENHEIT}\")\n",
    "\n",
    "ent_temperature_fahrenheit.grid(row=0, column=0, sticky=\"e\")\n",
    "lbl_temp_fahrenheit.grid(row=0, column=1, sticky=\"w\")\n",
    "\n",
    "btn_convert_fahrenheit = Button(\n",
    "    master=window,\n",
    "    text=\"\\N{RIGHTWARDS BLACK ARROW}\",\n",
    "    command=fahrenheit_to_celsius\n",
    ")\n",
    "\n",
    "lbl_result_celsius = Label(master=window, text=\"\\N{DEGREE CELSIUS}\")\n",
    "\n",
    "frm_entry_fahrenheit.grid(row=0, column=0, padx=10)\n",
    "btn_convert_fahrenheit.grid(row=0, column=1, pady=10)\n",
    "lbl_result_celsius.grid(row=0, column=2, padx=10)\n",
    "\n",
    "\n",
    "frm_entry_celsius = Frame(master=window)\n",
    "ent_temperature_celsius = Entry(master=frm_entry_celsius, width=10)\n",
    "lbl_temp_celsius = Label(master=frm_entry_celsius, text=\"\\N{DEGREE CELSIUS}\")\n",
    "\n",
    "ent_temperature_celsius.grid(row=0, column=0, sticky=\"e\")\n",
    "lbl_temp_celsius.grid(row=0, column=1, sticky=\"w\")\n",
    "\n",
    "btn_convert_celsius = Button(\n",
    "    master=window,\n",
    "    text=\"\\N{RIGHTWARDS BLACK ARROW}\",\n",
    "    command=celsius_to_fahrenheit\n",
    ")\n",
    "\n",
    "lbl_result_fahrenheit = Label(master=window, text=\"\\N{DEGREE FAHRENHEIT}\")\n",
    "\n",
    "frm_entry_celsius.grid(row=1, column=0, padx=10)\n",
    "btn_convert_celsius.grid(row=1, column=1, pady=10)\n",
    "lbl_result_fahrenheit.grid(row=1, column=2, padx=10)\n",
    "\n",
    "\n",
    "\n",
    "window.mainloop()"
   ]
  },
  {
   "cell_type": "code",
   "execution_count": 4,
   "id": "8f55f04c",
   "metadata": {},
   "outputs": [],
   "source": [
    "# Import Module\n",
    "from tkinter import *\n",
    "  \n",
    "# Information List\n",
    "datas = []\n",
    "\n",
    "# Update Information\n",
    "def update_book():\n",
    "    select.delete(0,END)\n",
    "    for n,p,a in datas:\n",
    "        select.insert(END, n)\n",
    "        \n",
    "# Add Information\n",
    "def add():\n",
    "    global datas\n",
    "    datas.append([Name.get(),Number.get(),address.get(1.0, \"end-1c\")])\n",
    "    update_book()\n",
    "  \n",
    "# View Information\n",
    "def view():\n",
    "    Name.set(datas[int(select.curselection()[0])][0])\n",
    "    Number.set(datas[int(select.curselection()[0])][1])\n",
    "    address.delete(1.0,\"end\")\n",
    "    address.insert(1.0, datas[int(select.curselection()[0])][2])\n",
    "  \n",
    "# Delete Information\n",
    "def delete():\n",
    "    del datas[int(select.curselection()[0])]\n",
    "    update_book()\n",
    "  \n",
    "def reset():\n",
    "    Name.set('')\n",
    "    Number.set('')\n",
    "    address.delete(1.0,\"end\")\n",
    "  \n",
    "  \n",
    "# Create Object\n",
    "root = Tk()\n",
    "  \n",
    "# Set geometry\n",
    "root.geometry('400x500')\n",
    "    \n",
    "# Add Buttons, Label, ListBox\n",
    "Name = StringVar()\n",
    "Number = StringVar()\n",
    "  \n",
    "frame = Frame()\n",
    "frame.pack(pady=10)\n",
    "  \n",
    "frame1 = Frame()\n",
    "frame1.pack(pady=10)\n",
    "  \n",
    "frame2 = Frame()\n",
    "frame2.pack(pady=10)\n",
    "  \n",
    "Label(frame, text = 'Name', font='arial 12 bold').pack(side=LEFT)\n",
    "Entry(frame, textvariable = Name,width=50).pack()\n",
    "  \n",
    "Label(frame1, text = 'Phone No.', font='arial 12 bold').pack(side=LEFT)\n",
    "Entry(frame1, textvariable = Number,width=50).pack()\n",
    "  \n",
    "Label(frame2, text = 'Address', font='arial 12 bold').pack(side=LEFT)\n",
    "address = Text(frame2,width=50,height=10)\n",
    "address.pack()\n",
    "  \n",
    "Button(root,text=\"Add\",font=\"arial 12 bold\",command=add).place(x= 100, y=270)\n",
    "Button(root,text=\"View\",font=\"arial 12 bold\",command=view).place(x= 100, y=310)\n",
    "Button(root,text=\"Delete\",font=\"arial 12 bold\",command=delete).place(x= 100, y=350)\n",
    "Button(root,text=\"Reset\",font=\"arial 12 bold\",command=reset).place(x= 100, y=390)\n",
    "  \n",
    "scroll_bar = Scrollbar(root, orient=VERTICAL)\n",
    "select = Listbox(root, yscrollcommand=scroll_bar.set, height=12)\n",
    "scroll_bar.config(command=select.yview)\n",
    "scroll_bar.pack(side=RIGHT, fill=Y)\n",
    "select.place(x=200,y=260)\n",
    "  \n",
    "# Execute Tkinter\n",
    "root.mainloop()"
   ]
  },
  {
   "cell_type": "code",
   "execution_count": 2,
   "id": "f7ac5627",
   "metadata": {},
   "outputs": [],
   "source": [
    "# import modules\n",
    "from tkinter import *\n",
    "import os\n",
    "  \n",
    "# user define funtion\n",
    "def shutdown():\n",
    "    return os.system(\"shutdown /s /t 1\")\n",
    "  \n",
    "def restart():\n",
    "    return os.system(\"shutdown /r /t 1\")\n",
    "  \n",
    "def logout():\n",
    "    return os.system(\"shutdown -l\")\n",
    "  \n",
    "# tkinter object\n",
    "master = Tk()\n",
    "  \n",
    "# background set to grey\n",
    "master.configure(bg='light grey')\n",
    "  \n",
    "# creating a button using the widget\n",
    "# Buttons that will call the submit function\n",
    "Button(master, text=\"Shutdown\", command=shutdown).grid(row=0)\n",
    "Button(master, text=\"Restart\", command=restart).grid(row=1)\n",
    "Button(master, text=\"Log out\", command=logout).grid(row=2)\n",
    "  \n",
    "master.mainloop()"
   ]
  },
  {
   "cell_type": "code",
   "execution_count": 3,
   "id": "b52de9f1",
   "metadata": {},
   "outputs": [
    {
     "name": "stdout",
     "output_type": "stream",
     "text": [
      "It is an apple\n",
      "It is an banana\n",
      "It is an apple\n"
     ]
    }
   ],
   "source": [
    "from tkinter import *\n",
    "  \n",
    "app = Tk()\n",
    "\n",
    "def apple_button_click():\n",
    "   print(\"It is an apple\")\n",
    "\n",
    "def banana_button_click():\n",
    "   print(\"It is an banana\")\n",
    "\n",
    "b1 = Button(app, text=\"Apple\", command=apple_button_click)\n",
    "b1.grid(padx=10, pady=10)  \n",
    "\n",
    "b2 = Button(app, text=\"Banana\", command=banana_button_click)\n",
    "b2.grid(padx=10, pady=10)\n",
    "\n",
    "app.mainloop()"
   ]
  },
  {
   "cell_type": "code",
   "execution_count": null,
   "id": "319a4bc9",
   "metadata": {},
   "outputs": [],
   "source": []
  }
 ],
 "metadata": {
  "kernelspec": {
   "display_name": "Python 3 (ipykernel)",
   "language": "python",
   "name": "python3"
  },
  "language_info": {
   "codemirror_mode": {
    "name": "ipython",
    "version": 3
   },
   "file_extension": ".py",
   "mimetype": "text/x-python",
   "name": "python",
   "nbconvert_exporter": "python",
   "pygments_lexer": "ipython3",
   "version": "3.10.7"
  }
 },
 "nbformat": 4,
 "nbformat_minor": 5
}
